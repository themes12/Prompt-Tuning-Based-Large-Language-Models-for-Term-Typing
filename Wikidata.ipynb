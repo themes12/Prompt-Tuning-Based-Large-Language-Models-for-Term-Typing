{
 "cells": [
  {
   "cell_type": "code",
   "execution_count": 1,
   "metadata": {},
   "outputs": [
    {
     "name": "stdout",
     "output_type": "stream",
     "text": [
      "Collecting Wikidata\n",
      "  Downloading Wikidata-0.7.0-py3-none-any.whl.metadata (2.9 kB)\n",
      "Downloading Wikidata-0.7.0-py3-none-any.whl (29 kB)\n",
      "Installing collected packages: Wikidata\n",
      "Successfully installed Wikidata-0.7.0\n"
     ]
    }
   ],
   "source": [
    "!pip install Wikidata"
   ]
  },
  {
   "cell_type": "code",
   "execution_count": 2,
   "metadata": {},
   "outputs": [],
   "source": [
    "from wikidata.client import Client"
   ]
  },
  {
   "cell_type": "code",
   "execution_count": 5,
   "metadata": {},
   "outputs": [
    {
     "name": "stdout",
     "output_type": "stream",
     "text": [
      "<wikidata.entity.Entity Q21438261 'Small proline-rich protein 2K'>\n"
     ]
    }
   ],
   "source": [
    "client = Client()\n",
    "entity = client.get('Q21438261', load=True)\n",
    "print(entity)"
   ]
  },
  {
   "cell_type": "code",
   "execution_count": 42,
   "metadata": {},
   "outputs": [
    {
     "name": "stdout",
     "output_type": "stream",
     "text": [
      "[[<wikidata.entity.Entity Q24190>, <wikidata.entity.Entity Q379764>], [<wikidata.entity.Entity Q2996394>], [<wikidata.entity.Entity Q22988603>, <wikidata.entity.Entity Q119301849>], ['http://amigo.geneontology.org'], ['https://www.wikidata.org/wiki/Wikidata:Property_proposal/Archive/9#P682'], [<wikidata.entity.Entity Q21503250>, <wikidata.entity.Entity Q21510864>], [<wikidata.entity.Entity P710>], ['http://bioschemas.org/isInvolvedInBiologicalProcess'], [<wikidata.entity.Entity Q126372574>]]\n"
     ]
    }
   ],
   "source": [
    "data = client.get('P682')\n",
    "# for val in data:\n",
    "print(data.listvalues())\n",
    "# print(data.description)\n",
    "# print(entity[data])"
   ]
  },
  {
   "cell_type": "code",
   "execution_count": 44,
   "metadata": {},
   "outputs": [
    {
     "name": "stdout",
     "output_type": "stream",
     "text": [
      "Collecting wptools\n",
      "  Downloading wptools-0.4.17-py2.py3-none-any.whl.metadata (14 kB)\n",
      "Requirement already satisfied: certifi in /opt/anaconda3/envs/TaskA/lib/python3.9/site-packages (from wptools) (2024.2.2)\n",
      "Collecting html2text (from wptools)\n",
      "  Downloading html2text-2024.2.26.tar.gz (56 kB)\n",
      "\u001b[2K     \u001b[90m━━━━━━━━━━━━━━━━━━━━━━━━━━━━━━━━━━━━━━━━\u001b[0m \u001b[32m56.5/56.5 kB\u001b[0m \u001b[31m3.3 MB/s\u001b[0m eta \u001b[36m0:00:00\u001b[0m\n",
      "\u001b[?25h  Preparing metadata (setup.py) ... \u001b[?25ldone\n",
      "\u001b[?25hCollecting lxml (from wptools)\n",
      "  Downloading lxml-5.2.2-cp39-cp39-manylinux_2_28_x86_64.whl.metadata (3.4 kB)\n",
      "Collecting pycurl (from wptools)\n",
      "  Downloading pycurl-7.45.3-cp39-cp39-manylinux_2_28_x86_64.whl.metadata (4.3 kB)\n",
      "Downloading wptools-0.4.17-py2.py3-none-any.whl (38 kB)\n",
      "Downloading lxml-5.2.2-cp39-cp39-manylinux_2_28_x86_64.whl (5.0 MB)\n",
      "\u001b[2K   \u001b[90m━━━━━━━━━━━━━━━━━━━━━━━━━━━━━━━━━━━━━━━━\u001b[0m \u001b[32m5.0/5.0 MB\u001b[0m \u001b[31m10.4 MB/s\u001b[0m eta \u001b[36m0:00:00\u001b[0m00:01\u001b[0m00:01\u001b[0m\n",
      "\u001b[?25hDownloading pycurl-7.45.3-cp39-cp39-manylinux_2_28_x86_64.whl (4.6 MB)\n",
      "\u001b[2K   \u001b[90m━━━━━━━━━━━━━━━━━━━━━━━━━━━━━━━━━━━━━━━━\u001b[0m \u001b[32m4.6/4.6 MB\u001b[0m \u001b[31m11.1 MB/s\u001b[0m eta \u001b[36m0:00:00\u001b[0m00:01\u001b[0m00:01\u001b[0m\n",
      "\u001b[?25hBuilding wheels for collected packages: html2text\n",
      "  Building wheel for html2text (setup.py) ... \u001b[?25ldone\n",
      "\u001b[?25h  Created wheel for html2text: filename=html2text-2024.2.26-py3-none-any.whl size=33111 sha256=2f5a22403427ccc0bd84317bd4df2ddee4591d86cc75c4086e77f60cc4e91cef\n",
      "  Stored in directory: /home/thiti/.cache/pip/wheels/4a/af/14/e28d92a6cb558e73559e73d480b75629263d809dd0fc7363be\n",
      "Successfully built html2text\n",
      "Installing collected packages: pycurl, lxml, html2text, wptools\n",
      "Successfully installed html2text-2024.2.26 lxml-5.2.2 pycurl-7.45.3 wptools-0.4.17\n"
     ]
    }
   ],
   "source": [
    "!pip install wptools"
   ]
  },
  {
   "cell_type": "code",
   "execution_count": 45,
   "metadata": {},
   "outputs": [],
   "source": [
    "import wptools"
   ]
  },
  {
   "cell_type": "code",
   "execution_count": 86,
   "metadata": {},
   "outputs": [],
   "source": [
    "page = wptools.page(wikibase='Q21119009')"
   ]
  },
  {
   "cell_type": "code",
   "execution_count": 87,
   "metadata": {},
   "outputs": [],
   "source": [
    "page.wanted_labels(['P682'])"
   ]
  },
  {
   "cell_type": "code",
   "execution_count": 88,
   "metadata": {},
   "outputs": [
    {
     "name": "stderr",
     "output_type": "stream",
     "text": [
      "www.wikidata.org (wikidata) Q21119009\n",
      "www.wikidata.org (labels) Q14852032|Q14864210|P682|Q8054|Q14633883|P31\n",
      "Goosecoid homeobox 2 (en) data\n",
      "{\n",
      "  aliases: <list(5)> homeobox protein goosecoid-2, GSC-L, Homeobox...\n",
      "  claims: <dict(13)> P638, P705, P702, P352, P682, P680, P681, P52...\n",
      "  description: mammalian protein found in Homo sapiens\n",
      "  label: Goosecoid homeobox 2\n",
      "  labels: <dict(6)> Q14852032, Q14864210, P682, Q8054, Q14633883, P31\n",
      "  modified: <dict(1)> wikidata\n",
      "  requests: <list(2)> wikidata, labels\n",
      "  title: Goosecoid_homeobox_2\n",
      "  what: protein\n",
      "  wikibase: Q21119009\n",
      "  wikidata: <dict(2)> biological process (P682), instance of (P31)\n",
      "  wikidata_pageid: 23166388\n",
      "  wikidata_url: https://www.wikidata.org/wiki/Q21119009\n",
      "}\n"
     ]
    }
   ],
   "source": [
    "page_data = page.get_wikidata()"
   ]
  },
  {
   "cell_type": "code",
   "execution_count": 89,
   "metadata": {},
   "outputs": [
    {
     "data": {
      "text/plain": [
       "{'requests': ['wikidata', 'labels'],\n",
       " 'labels': {'Q14852032': 'regulation of transcription by RNA polymerase II',\n",
       "  'Q14864210': 'anatomical structure morphogenesis',\n",
       "  'P682': 'biological process',\n",
       "  'Q8054': 'protein',\n",
       "  'Q14633883': 'regulation of transcription, DNA-templated',\n",
       "  'P31': 'instance of'},\n",
       " 'wikidata': {'biological process (P682)': ['anatomical structure morphogenesis (Q14864210)',\n",
       "   'regulation of transcription, DNA-templated (Q14633883)',\n",
       "   'regulation of transcription by RNA polymerase II (Q14852032)'],\n",
       "  'instance of (P31)': 'protein (Q8054)'},\n",
       " 'wikidata_pageid': 23166388,\n",
       " 'aliases': ['homeobox protein goosecoid-2',\n",
       "  'GSC-L',\n",
       "  'Homeobox protein goosecoid-like',\n",
       "  'GSC2',\n",
       "  'GSC-2'],\n",
       " 'modified': {'wikidata': '2023-12-03T12:33:53Z'},\n",
       " 'wikibase': 'Q21119009',\n",
       " 'wikidata_url': 'https://www.wikidata.org/wiki/Q21119009',\n",
       " 'description': 'mammalian protein found in Homo sapiens',\n",
       " 'label': 'Goosecoid homeobox 2',\n",
       " 'claims': {'P638': ['2DMU'],\n",
       "  'P705': ['ENSP00000086933'],\n",
       "  'P702': ['Q18026568'],\n",
       "  'P352': ['O15499'],\n",
       "  'P682': ['Q14864210', 'Q14633883', 'Q14852032'],\n",
       "  'P680': ['Q14633858', 'Q14817979', 'Q14818107', 'Q14864645'],\n",
       "  'P681': ['Q40260'],\n",
       "  'P527': ['Q24769490', 'Q24723642'],\n",
       "  'P703': ['Q15978631'],\n",
       "  'P637': ['NP_005306'],\n",
       "  'P31': ['Q8054'],\n",
       "  'P361': ['Q24769639', 'Q83138923', 'Q95352269'],\n",
       "  'P2888': ['https://identifiers.org/uniprot:O15499',\n",
       "   'http://purl.uniprot.org/uniprot/O15499',\n",
       "   'https://www.ncbi.nlm.nih.gov/protein/O15499']},\n",
       " 'title': 'Goosecoid_homeobox_2',\n",
       " 'what': 'protein'}"
      ]
     },
     "execution_count": 89,
     "metadata": {},
     "output_type": "execute_result"
    }
   ],
   "source": [
    "page_data.data"
   ]
  }
 ],
 "metadata": {
  "kernelspec": {
   "display_name": "TaskA",
   "language": "python",
   "name": "python3"
  },
  "language_info": {
   "codemirror_mode": {
    "name": "ipython",
    "version": 3
   },
   "file_extension": ".py",
   "mimetype": "text/x-python",
   "name": "python",
   "nbconvert_exporter": "python",
   "pygments_lexer": "ipython3",
   "version": "3.9.-1"
  }
 },
 "nbformat": 4,
 "nbformat_minor": 2
}
