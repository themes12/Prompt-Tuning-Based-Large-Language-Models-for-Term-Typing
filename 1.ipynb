{
 "cells": [
  {
   "cell_type": "code",
   "execution_count": null,
   "metadata": {},
   "outputs": [],
   "source": [
    "%pip install --upgrade transformers"
   ]
  },
  {
   "cell_type": "code",
   "execution_count": null,
   "metadata": {},
   "outputs": [],
   "source": [
    "#!CUDA_VISIBLE_DEVICES=1 python3 prepare_prompt_tuning.py --kb_name=wn18rr --model_name=bloom_1b7 --template=template-3 --device=cuda --soft_prompt=PT\n",
    "#!CUDA_VISIBLE_DEVICES=1 python3 prepare_prompt_tuning.py --kb_name=wn18rr --model_name=bloom_3b --template=template-3 --device=cuda --soft_prompt=PT\n",
    "!CUDA_VISIBLE_DEVICES=0 python3 prepare_prompt_tuning.py --kb_name=wn18rr --model_name=llama3 --template=template-4 --device=cuda --soft_prompt=PT\n",
    "!CUDA_VISIBLE_DEVICES=0 python3 prepare_prompt_tuning.py --kb_name=wn18rr --model_name=llama3_chat --template=template-4 --device=cuda --soft_prompt=PT\n",
    "!CUDA_VISIBLE_DEVICES=0 python3 prepare_prompt_tuning.py --kb_name=wn18rr --model_name=llama_7b --template=template-4 --device=cuda --soft_prompt=PT\n",
    "!CUDA_VISIBLE_DEVICES=0 python3 prepare_prompt_tuning.py --kb_name=wn18rr --model_name=llama2 --template=template-4 --device=cuda --soft_prompt=PT\n",
    "!CUDA_VISIBLE_DEVICES=0 python3 prepare_prompt_tuning.py --kb_name=wn18rr --model_name=llama2_chat --template=template-4 --device=cuda --soft_prompt=PT"
   ]
  },
  {
   "cell_type": "code",
   "execution_count": null,
   "metadata": {},
   "outputs": [],
   "source": [
    "#!CUDA_VISIBLE_DEVICES=0 python3 prepare_prompt_tuning.py --kb_name=wn18rr --model_name=bart_large --template=template-4 --device=cuda --soft_prompt=PT\n",
    "#!CUDA_VISIBLE_DEVICES=0 python3 prepare_prompt_tuning.py --kb_name=wn18rr --model_name=bert_large --template=template-8 --device=cuda --soft_prompt=PT\n",
    "#!CUDA_VISIBLE_DEVICES=1 python3 prepare_prompt_tuning.py --kb_name=wn18rr --model_name=flan_t5_large --template=template-4 --device=cuda --soft_prompt=PT\n",
    "#!CUDA_VISIBLE_DEVICES=1 python3 prepare_prompt_tuning.py --kb_name=wn18rr --model_name=flan_t5_xl --template=template-4 --device=cuda --soft_prompt=PT"
   ]
  },
  {
   "cell_type": "code",
   "execution_count": null,
   "metadata": {},
   "outputs": [],
   "source": [
    "!./prepare_prompt_tuning.sh"
   ]
  },
  {
   "cell_type": "code",
   "execution_count": null,
   "metadata": {},
   "outputs": [],
   "source": [
    "!./test_auto.sh"
   ]
  },
  {
   "cell_type": "code",
   "execution_count": 5,
   "metadata": {},
   "outputs": [],
   "source": [
    "!./eval_auto.sh"
   ]
  },
  {
   "cell_type": "code",
   "execution_count": null,
   "metadata": {},
   "outputs": [],
   "source": [
    "!CUDA_VISIBLE_DEVICES=0 python3 prepare_datasets.py --kb_name=umls"
   ]
  },
  {
   "cell_type": "code",
   "execution_count": null,
   "metadata": {},
   "outputs": [],
   "source": [
    "!CUDA_VISIBLE_DEVICES=0 python3 build_entity_datasets.py --kb_name=umls"
   ]
  },
  {
   "cell_type": "code",
   "execution_count": null,
   "metadata": {},
   "outputs": [],
   "source": [
    "!./group_eval.sh"
   ]
  },
  {
   "cell_type": "code",
   "execution_count": null,
   "metadata": {},
   "outputs": [],
   "source": [
    "!./test_auto_medcin.sh"
   ]
  }
 ],
 "metadata": {
  "kernelspec": {
   "display_name": "Python 3 (ipykernel)",
   "language": "python",
   "name": "python3"
  },
  "language_info": {
   "codemirror_mode": {
    "name": "ipython",
    "version": 3
   },
   "file_extension": ".py",
   "mimetype": "text/x-python",
   "name": "python",
   "nbconvert_exporter": "python",
   "pygments_lexer": "ipython3",
   "version": "3.9.19"
  }
 },
 "nbformat": 4,
 "nbformat_minor": 4
}
