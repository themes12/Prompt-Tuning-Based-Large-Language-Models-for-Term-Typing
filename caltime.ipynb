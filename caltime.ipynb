{
 "cells": [
  {
   "cell_type": "code",
   "execution_count": null,
   "id": "5d99d97a-8e52-4666-85ea-6af9a8306908",
   "metadata": {},
   "outputs": [],
   "source": [
    "!python3 prepare_datasets.py --kb_name=umls"
   ]
  },
  {
   "cell_type": "code",
   "execution_count": null,
   "id": "f6fa08d5-d3f4-46b1-8937-156480ea6247",
   "metadata": {},
   "outputs": [],
   "source": [
    "!python3 build_entity_datasets.py --kb_name=umls"
   ]
  },
  {
   "cell_type": "code",
   "execution_count": null,
   "id": "d3d8c5e6-bd93-49c8-8d2c-5ce1d81c6d1a",
   "metadata": {},
   "outputs": [],
   "source": []
  }
 ],
 "metadata": {
  "kernelspec": {
   "display_name": "Python 3 (ipykernel)",
   "language": "python",
   "name": "python3"
  },
  "language_info": {
   "codemirror_mode": {
    "name": "ipython",
    "version": 3
   },
   "file_extension": ".py",
   "mimetype": "text/x-python",
   "name": "python",
   "nbconvert_exporter": "python",
   "pygments_lexer": "ipython3",
   "version": "3.9.19"
  }
 },
 "nbformat": 4,
 "nbformat_minor": 5
}
